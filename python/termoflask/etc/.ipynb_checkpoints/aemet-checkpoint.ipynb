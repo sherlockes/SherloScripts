{
 "cells": [
  {
   "cell_type": "markdown",
   "id": "anticipated-medium",
   "metadata": {},
   "source": [
    "# Capturando datos de la web de la AEMET\n",
    "Como complemento al termostado que estoy fabricando sobre la Raspberry me encuentro en la necesidad de captar la temperatura exterior. Una forma rápida y sencilla esdesde la web de la [AEMET] ya que es posible descargar un archivo csv y de ello nos vamos a aprovechar...\n",
    "\n",
    "En principio, todo lo que necesito es la temperatura exterior actual, la hora a la que ha sido tomada y la media diaria de temperatura. He dado con un par de métodos para obtener estas mediciones, uno trabajando los datos en bruto y otro usando la librería de análisis de datos [Pandas].\n",
    "\n",
    "## Método 1 (Modo Manual)\n",
    "\n",
    "[AEMET]: http://www.aemet.es/es/eltiempo/observacion/ultimosdatos_9434P_datos-horarios.csv?k=arn&l=9434P&datos=det&w=0&f=temperatura&x=h24\n",
    "[Pandas]: https://pandas.pydata.org"
   ]
  },
  {
   "cell_type": "code",
   "execution_count": 5,
   "id": "incoming-anaheim",
   "metadata": {},
   "outputs": [
    {
     "name": "stdout",
     "output_type": "stream",
     "text": [
      "2021/01/29 19:17 - Se ha tomado una Tª de 17.7ºC, la media diaria es de 15.7ºC\n"
     ]
    }
   ],
   "source": [
    "import requests\n",
    "from datetime import datetime\n",
    "\n",
    "url = \"http://www.aemet.es/es/eltiempo/observacion/ultimosdatos_9434P_datos-horarios.csv?k=arn&l=9434P&datos=det&w=0&f=temperatura&x=h24\"\n",
    "datos = requests.get(url, allow_redirects=True).text.replace('\"', \"\").splitlines()\n",
    "\n",
    "aemet_hora = datetime.now().strftime('%Y/%m/%d %H:%M')\n",
    "aemet_temp = float(datos[4].split(\",\")[1])\n",
    "\n",
    "temp = 0.0\n",
    "\n",
    "for i in range(4,len(datos)):\n",
    "    temp += float(datos[i].split(\",\")[1])\n",
    "    \n",
    "aemet_media = round(temp / (i-3),1)\n",
    "\n",
    "print(f\"{aemet_hora} - Se ha tomado una Tª de {aemet_temp}ºC, la media diaria es de {aemet_media}ºC\")"
   ]
  },
  {
   "cell_type": "markdown",
   "id": "municipal-municipality",
   "metadata": {},
   "source": [
    "El script sigue los siguientes pasos:\n",
    "- Petición al servidor\n",
    "- Eliminación de las dobles comillas\n",
    "- Conversión en una lista por líneas\n",
    "- Generación de la hora actual mediante la clase \"Datetime\"\n",
    "- Creación de una lista a partir de la 4ª fila donde está el último dato y quedarnos con el segundo valor (Tª)\n",
    "- Cálculo de la media de Tª mediante un bucle for que recorre los registros (Desde la 4ª fila hasta el final)\n",
    "\n",
    "Bastante sencillo y rápido\n",
    "\n",
    "## Método 2 (Modo Pandas)"
   ]
  },
  {
   "cell_type": "code",
   "execution_count": 32,
   "id": "particular-labor",
   "metadata": {},
   "outputs": [
    {
     "name": "stdout",
     "output_type": "stream",
     "text": [
      "2021-01-29 18:00:00 - Se ha tomado una Tª de 17.7ºC, la media diaria es de 15.7ºC\n"
     ]
    }
   ],
   "source": [
    "import pandas as pd\n",
    "\n",
    "url = \"http://www.aemet.es/es/eltiempo/observacion/ultimosdatos_9434P_datos-horarios.csv?k=arn&l=9434P&datos=det&w=0&f=temperatura&x=h24\"\n",
    "df = pd.read_csv(url,encoding = \"ISO-8859-1\",skiprows=3)\n",
    "\n",
    "campos = df.columns.values\n",
    "\n",
    "hora = campos[0]\n",
    "temp = campos[1]\n",
    "\n",
    "aemet_hora = datetime.strptime(df.iloc[0][hora], '%d/%m/%Y %H:%M')\n",
    "aemet_media = round(df[temp].mean(),1)\n",
    "aemet_temp = df.iloc[0][campos[1]]\n",
    "\n",
    "print(f\"{aemet_hora} - Se ha tomado una Tª de {aemet_temp}ºC, la media diaria es de {aemet_media}ºC\")"
   ]
  },
  {
   "cell_type": "markdown",
   "id": "protected-inspection",
   "metadata": {},
   "source": [
    "El script sigue los siguientes pasos:\n",
    "- Creación de un \"dataframe\" a partir de una url cuyo contenido está codificado en \"ISO-8859-1\" y del que despreciamos las 3 primeras filas\n",
    "- Extracción de los encabezados\n",
    "- Asignación de una variable a cada encabezado\n",
    "- Extracción de la hora mediante \"iloc\" y cambio de formato mediante datetime\n",
    "- Cálculo de la media de la columna de temperaturas\n",
    "- Extracción de la ultima temperatura mediante \"iloc\""
   ]
  }
 ],
 "metadata": {
  "kernelspec": {
   "display_name": "Python 3",
   "language": "python",
   "name": "python3"
  },
  "language_info": {
   "codemirror_mode": {
    "name": "ipython",
    "version": 3
   },
   "file_extension": ".py",
   "mimetype": "text/x-python",
   "name": "python",
   "nbconvert_exporter": "python",
   "pygments_lexer": "ipython3",
   "version": "3.8.5"
  }
 },
 "nbformat": 4,
 "nbformat_minor": 5
}
